{
 "cells": [
  {
   "cell_type": "markdown",
   "id": "5f23cc75-f1df-4e94-a64d-a30781183b3f",
   "metadata": {
    "tags": []
   },
   "source": [
    "# Data Science Salary Anaylsis \n",
    "## Name : Sajin Raj Amatya\n"
   ]
  },
  {
   "cell_type": "code",
   "execution_count": 40,
   "id": "acb62ed1-64a2-496b-81ed-6631185a9b99",
   "metadata": {
    "tags": []
   },
   "outputs": [],
   "source": [
    "# importing necessary python libraries for conducting data analysis \n",
    "import pandas as pd \n",
    "import numpy as np \n",
    "import matplotlib.pyplot as plt \n",
    "import seaborn as sns \n"
   ]
  },
  {
   "cell_type": "markdown",
   "id": "31d952b3-117b-4cc3-b96a-4c709374a03c",
   "metadata": {
    "tags": []
   },
   "source": [
    "## Loading the dataset to dataframe "
   ]
  },
  {
   "cell_type": "code",
   "execution_count": 41,
   "id": "9cecf175-add9-4db9-8e4f-04a50a8176f2",
   "metadata": {
    "tags": []
   },
   "outputs": [
    {
     "data": {
      "text/html": [
       "<div>\n",
       "<style scoped>\n",
       "    .dataframe tbody tr th:only-of-type {\n",
       "        vertical-align: middle;\n",
       "    }\n",
       "\n",
       "    .dataframe tbody tr th {\n",
       "        vertical-align: top;\n",
       "    }\n",
       "\n",
       "    .dataframe thead th {\n",
       "        text-align: right;\n",
       "    }\n",
       "</style>\n",
       "<table border=\"1\" class=\"dataframe\">\n",
       "  <thead>\n",
       "    <tr style=\"text-align: right;\">\n",
       "      <th></th>\n",
       "      <th>work_year</th>\n",
       "      <th>experience_level</th>\n",
       "      <th>employment_type</th>\n",
       "      <th>job_title</th>\n",
       "      <th>salary</th>\n",
       "      <th>salary_currency</th>\n",
       "      <th>salary_in_usd</th>\n",
       "      <th>employee_residence</th>\n",
       "      <th>remote_ratio</th>\n",
       "      <th>company_location</th>\n",
       "      <th>company_size</th>\n",
       "    </tr>\n",
       "  </thead>\n",
       "  <tbody>\n",
       "    <tr>\n",
       "      <th>0</th>\n",
       "      <td>2023</td>\n",
       "      <td>SE</td>\n",
       "      <td>FT</td>\n",
       "      <td>Principal Data Scientist</td>\n",
       "      <td>80000</td>\n",
       "      <td>EUR</td>\n",
       "      <td>85847</td>\n",
       "      <td>ES</td>\n",
       "      <td>100</td>\n",
       "      <td>ES</td>\n",
       "      <td>L</td>\n",
       "    </tr>\n",
       "    <tr>\n",
       "      <th>1</th>\n",
       "      <td>2023</td>\n",
       "      <td>MI</td>\n",
       "      <td>CT</td>\n",
       "      <td>ML Engineer</td>\n",
       "      <td>30000</td>\n",
       "      <td>USD</td>\n",
       "      <td>30000</td>\n",
       "      <td>US</td>\n",
       "      <td>100</td>\n",
       "      <td>US</td>\n",
       "      <td>S</td>\n",
       "    </tr>\n",
       "    <tr>\n",
       "      <th>2</th>\n",
       "      <td>2023</td>\n",
       "      <td>MI</td>\n",
       "      <td>CT</td>\n",
       "      <td>ML Engineer</td>\n",
       "      <td>25500</td>\n",
       "      <td>USD</td>\n",
       "      <td>25500</td>\n",
       "      <td>US</td>\n",
       "      <td>100</td>\n",
       "      <td>US</td>\n",
       "      <td>S</td>\n",
       "    </tr>\n",
       "    <tr>\n",
       "      <th>3</th>\n",
       "      <td>2023</td>\n",
       "      <td>SE</td>\n",
       "      <td>FT</td>\n",
       "      <td>Data Scientist</td>\n",
       "      <td>175000</td>\n",
       "      <td>USD</td>\n",
       "      <td>175000</td>\n",
       "      <td>CA</td>\n",
       "      <td>100</td>\n",
       "      <td>CA</td>\n",
       "      <td>M</td>\n",
       "    </tr>\n",
       "  </tbody>\n",
       "</table>\n",
       "</div>"
      ],
      "text/plain": [
       "   work_year experience_level employment_type                 job_title  \\\n",
       "0       2023               SE              FT  Principal Data Scientist   \n",
       "1       2023               MI              CT               ML Engineer   \n",
       "2       2023               MI              CT               ML Engineer   \n",
       "3       2023               SE              FT            Data Scientist   \n",
       "\n",
       "   salary salary_currency  salary_in_usd employee_residence  remote_ratio  \\\n",
       "0   80000             EUR          85847                 ES           100   \n",
       "1   30000             USD          30000                 US           100   \n",
       "2   25500             USD          25500                 US           100   \n",
       "3  175000             USD         175000                 CA           100   \n",
       "\n",
       "  company_location company_size  \n",
       "0               ES            L  \n",
       "1               US            S  \n",
       "2               US            S  \n",
       "3               CA            M  "
      ]
     },
     "execution_count": 41,
     "metadata": {},
     "output_type": "execute_result"
    }
   ],
   "source": [
    "\n",
    "import pandas as pd \n",
    "#loading the csv file into pandas data frame using pd.read_csv() method \n",
    "salaries_dataframe = pd.read_csv(\"DataScienceSalaries.csv\")\n",
    "#Display first four rows of the dataframe\n",
    "salaries_dataframe.head(4)"
   ]
  },
  {
   "cell_type": "markdown",
   "id": "8e44e09b-6ccf-48cc-84a7-5cfac49fd7e5",
   "metadata": {
    "tags": []
   },
   "source": [
    "## Data Understanding "
   ]
  },
  {
   "cell_type": "code",
   "execution_count": 42,
   "id": "6f01a7af-b406-4c4c-8fa4-c54a7eabb888",
   "metadata": {
    "tags": []
   },
   "outputs": [
    {
     "data": {
      "text/html": [
       "<div>\n",
       "<style scoped>\n",
       "    .dataframe tbody tr th:only-of-type {\n",
       "        vertical-align: middle;\n",
       "    }\n",
       "\n",
       "    .dataframe tbody tr th {\n",
       "        vertical-align: top;\n",
       "    }\n",
       "\n",
       "    .dataframe thead th {\n",
       "        text-align: right;\n",
       "    }\n",
       "</style>\n",
       "<table border=\"1\" class=\"dataframe\">\n",
       "  <thead>\n",
       "    <tr style=\"text-align: right;\">\n",
       "      <th></th>\n",
       "      <th>work_year</th>\n",
       "      <th>experience_level</th>\n",
       "      <th>employment_type</th>\n",
       "      <th>job_title</th>\n",
       "      <th>salary</th>\n",
       "      <th>salary_currency</th>\n",
       "      <th>salary_in_usd</th>\n",
       "      <th>employee_residence</th>\n",
       "      <th>remote_ratio</th>\n",
       "      <th>company_location</th>\n",
       "      <th>company_size</th>\n",
       "    </tr>\n",
       "  </thead>\n",
       "  <tbody>\n",
       "    <tr>\n",
       "      <th>0</th>\n",
       "      <td>2023</td>\n",
       "      <td>SE</td>\n",
       "      <td>FT</td>\n",
       "      <td>Principal Data Scientist</td>\n",
       "      <td>80000</td>\n",
       "      <td>EUR</td>\n",
       "      <td>85847</td>\n",
       "      <td>ES</td>\n",
       "      <td>100</td>\n",
       "      <td>ES</td>\n",
       "      <td>L</td>\n",
       "    </tr>\n",
       "    <tr>\n",
       "      <th>1</th>\n",
       "      <td>2023</td>\n",
       "      <td>MI</td>\n",
       "      <td>CT</td>\n",
       "      <td>ML Engineer</td>\n",
       "      <td>30000</td>\n",
       "      <td>USD</td>\n",
       "      <td>30000</td>\n",
       "      <td>US</td>\n",
       "      <td>100</td>\n",
       "      <td>US</td>\n",
       "      <td>S</td>\n",
       "    </tr>\n",
       "    <tr>\n",
       "      <th>2</th>\n",
       "      <td>2023</td>\n",
       "      <td>MI</td>\n",
       "      <td>CT</td>\n",
       "      <td>ML Engineer</td>\n",
       "      <td>25500</td>\n",
       "      <td>USD</td>\n",
       "      <td>25500</td>\n",
       "      <td>US</td>\n",
       "      <td>100</td>\n",
       "      <td>US</td>\n",
       "      <td>S</td>\n",
       "    </tr>\n",
       "  </tbody>\n",
       "</table>\n",
       "</div>"
      ],
      "text/plain": [
       "   work_year experience_level employment_type                 job_title  \\\n",
       "0       2023               SE              FT  Principal Data Scientist   \n",
       "1       2023               MI              CT               ML Engineer   \n",
       "2       2023               MI              CT               ML Engineer   \n",
       "\n",
       "   salary salary_currency  salary_in_usd employee_residence  remote_ratio  \\\n",
       "0   80000             EUR          85847                 ES           100   \n",
       "1   30000             USD          30000                 US           100   \n",
       "2   25500             USD          25500                 US           100   \n",
       "\n",
       "  company_location company_size  \n",
       "0               ES            L  \n",
       "1               US            S  \n",
       "2               US            S  "
      ]
     },
     "execution_count": 42,
     "metadata": {},
     "output_type": "execute_result"
    }
   ],
   "source": [
    "# Displaying first 3 row of the dataframe \n",
    "salaries_dataframe.head(3)"
   ]
  },
  {
   "cell_type": "markdown",
   "id": "f591bc0d-ad44-420b-b744-420496fe10b4",
   "metadata": {},
   "source": [
    "### Dimension of the dataframe "
   ]
  },
  {
   "cell_type": "code",
   "execution_count": 43,
   "id": "76192521-f200-417c-badd-4041f7e00085",
   "metadata": {
    "tags": []
   },
   "outputs": [
    {
     "data": {
      "text/plain": [
       "(3755, 11)"
      ]
     },
     "execution_count": 43,
     "metadata": {},
     "output_type": "execute_result"
    }
   ],
   "source": [
    "# Displaying the total number of rows and columns of the dataset \n",
    "salaries_dataframe.shape"
   ]
  },
  {
   "cell_type": "markdown",
   "id": "a2c148ea-d5fe-4d73-bd7d-05947434d148",
   "metadata": {
    "tags": []
   },
   "source": [
    "### Columns of the dataframe"
   ]
  },
  {
   "cell_type": "code",
   "execution_count": 44,
   "id": "42c8360a-51e6-4012-b7b2-d216189058ea",
   "metadata": {
    "tags": []
   },
   "outputs": [
    {
     "data": {
      "text/plain": [
       "Index(['work_year', 'experience_level', 'employment_type', 'job_title',\n",
       "       'salary', 'salary_currency', 'salary_in_usd', 'employee_residence',\n",
       "       'remote_ratio', 'company_location', 'company_size'],\n",
       "      dtype='object')"
      ]
     },
     "execution_count": 44,
     "metadata": {},
     "output_type": "execute_result"
    }
   ],
   "source": [
    "#listing all the columns in the dataframe \n",
    "salaries_dataframe.columns"
   ]
  },
  {
   "cell_type": "markdown",
   "id": "7d5320ae-81cd-490b-bdc2-51358147c3b3",
   "metadata": {},
   "source": [
    "### Information about dataframe"
   ]
  },
  {
   "cell_type": "code",
   "execution_count": 45,
   "id": "24f67b35-eac2-40ee-a200-5605dcea297b",
   "metadata": {
    "tags": []
   },
   "outputs": [
    {
     "name": "stdout",
     "output_type": "stream",
     "text": [
      "<class 'pandas.core.frame.DataFrame'>\n",
      "RangeIndex: 3755 entries, 0 to 3754\n",
      "Data columns (total 11 columns):\n",
      " #   Column              Non-Null Count  Dtype \n",
      "---  ------              --------------  ----- \n",
      " 0   work_year           3755 non-null   int64 \n",
      " 1   experience_level    3755 non-null   object\n",
      " 2   employment_type     3755 non-null   object\n",
      " 3   job_title           3755 non-null   object\n",
      " 4   salary              3755 non-null   int64 \n",
      " 5   salary_currency     3755 non-null   object\n",
      " 6   salary_in_usd       3755 non-null   int64 \n",
      " 7   employee_residence  3755 non-null   object\n",
      " 8   remote_ratio        3755 non-null   int64 \n",
      " 9   company_location    3755 non-null   object\n",
      " 10  company_size        3755 non-null   object\n",
      "dtypes: int64(4), object(7)\n",
      "memory usage: 322.8+ KB\n"
     ]
    }
   ],
   "source": [
    "# Displaying the detail information about each column in the dataset \n",
    "salaries_dataframe.info()"
   ]
  },
  {
   "cell_type": "code",
   "execution_count": null,
   "id": "03b74d91-a7a1-4574-a5cc-fabda0c689b3",
   "metadata": {},
   "outputs": [],
   "source": [
    "### Description of numeric column "
   ]
  },
  {
   "cell_type": "code",
   "execution_count": 46,
   "id": "829b16fe-3534-409c-bb00-7926ff6599d5",
   "metadata": {
    "tags": []
   },
   "outputs": [
    {
     "data": {
      "text/html": [
       "<div>\n",
       "<style scoped>\n",
       "    .dataframe tbody tr th:only-of-type {\n",
       "        vertical-align: middle;\n",
       "    }\n",
       "\n",
       "    .dataframe tbody tr th {\n",
       "        vertical-align: top;\n",
       "    }\n",
       "\n",
       "    .dataframe thead th {\n",
       "        text-align: right;\n",
       "    }\n",
       "</style>\n",
       "<table border=\"1\" class=\"dataframe\">\n",
       "  <thead>\n",
       "    <tr style=\"text-align: right;\">\n",
       "      <th></th>\n",
       "      <th>work_year</th>\n",
       "      <th>salary</th>\n",
       "      <th>salary_in_usd</th>\n",
       "      <th>remote_ratio</th>\n",
       "    </tr>\n",
       "  </thead>\n",
       "  <tbody>\n",
       "    <tr>\n",
       "      <th>count</th>\n",
       "      <td>3755.000000</td>\n",
       "      <td>3.755000e+03</td>\n",
       "      <td>3755.000000</td>\n",
       "      <td>3755.000000</td>\n",
       "    </tr>\n",
       "    <tr>\n",
       "      <th>mean</th>\n",
       "      <td>2022.373635</td>\n",
       "      <td>1.906956e+05</td>\n",
       "      <td>137570.389880</td>\n",
       "      <td>46.271638</td>\n",
       "    </tr>\n",
       "    <tr>\n",
       "      <th>std</th>\n",
       "      <td>0.691448</td>\n",
       "      <td>6.716765e+05</td>\n",
       "      <td>63055.625278</td>\n",
       "      <td>48.589050</td>\n",
       "    </tr>\n",
       "    <tr>\n",
       "      <th>min</th>\n",
       "      <td>2020.000000</td>\n",
       "      <td>6.000000e+03</td>\n",
       "      <td>5132.000000</td>\n",
       "      <td>0.000000</td>\n",
       "    </tr>\n",
       "    <tr>\n",
       "      <th>25%</th>\n",
       "      <td>2022.000000</td>\n",
       "      <td>1.000000e+05</td>\n",
       "      <td>95000.000000</td>\n",
       "      <td>0.000000</td>\n",
       "    </tr>\n",
       "    <tr>\n",
       "      <th>50%</th>\n",
       "      <td>2022.000000</td>\n",
       "      <td>1.380000e+05</td>\n",
       "      <td>135000.000000</td>\n",
       "      <td>0.000000</td>\n",
       "    </tr>\n",
       "    <tr>\n",
       "      <th>75%</th>\n",
       "      <td>2023.000000</td>\n",
       "      <td>1.800000e+05</td>\n",
       "      <td>175000.000000</td>\n",
       "      <td>100.000000</td>\n",
       "    </tr>\n",
       "    <tr>\n",
       "      <th>max</th>\n",
       "      <td>2023.000000</td>\n",
       "      <td>3.040000e+07</td>\n",
       "      <td>450000.000000</td>\n",
       "      <td>100.000000</td>\n",
       "    </tr>\n",
       "  </tbody>\n",
       "</table>\n",
       "</div>"
      ],
      "text/plain": [
       "         work_year        salary  salary_in_usd  remote_ratio\n",
       "count  3755.000000  3.755000e+03    3755.000000   3755.000000\n",
       "mean   2022.373635  1.906956e+05  137570.389880     46.271638\n",
       "std       0.691448  6.716765e+05   63055.625278     48.589050\n",
       "min    2020.000000  6.000000e+03    5132.000000      0.000000\n",
       "25%    2022.000000  1.000000e+05   95000.000000      0.000000\n",
       "50%    2022.000000  1.380000e+05  135000.000000      0.000000\n",
       "75%    2023.000000  1.800000e+05  175000.000000    100.000000\n",
       "max    2023.000000  3.040000e+07  450000.000000    100.000000"
      ]
     },
     "execution_count": 46,
     "metadata": {},
     "output_type": "execute_result"
    }
   ],
   "source": [
    "salaries_dataframe.describe()"
   ]
  },
  {
   "cell_type": "markdown",
   "id": "89ca2610-33ae-46bb-990d-8702a2a2f337",
   "metadata": {},
   "source": [
    "### inspection of null values"
   ]
  },
  {
   "cell_type": "code",
   "execution_count": 47,
   "id": "c09200b9-ab9b-48df-9673-2822db291da2",
   "metadata": {
    "tags": []
   },
   "outputs": [
    {
     "data": {
      "text/plain": [
       "work_year             0\n",
       "experience_level      0\n",
       "employment_type       0\n",
       "job_title             0\n",
       "salary                0\n",
       "salary_currency       0\n",
       "salary_in_usd         0\n",
       "employee_residence    0\n",
       "remote_ratio          0\n",
       "company_location      0\n",
       "company_size          0\n",
       "dtype: int64"
      ]
     },
     "execution_count": 47,
     "metadata": {},
     "output_type": "execute_result"
    }
   ],
   "source": [
    "# inspection of null values \n",
    "salaries_dataframe.isna().sum()"
   ]
  },
  {
   "cell_type": "markdown",
   "id": "30269215-5da4-4f66-8840-8a7d3195df0d",
   "metadata": {},
   "source": [
    "### Company location value count "
   ]
  },
  {
   "cell_type": "code",
   "execution_count": 48,
   "id": "6c7211d3-5a00-40f5-aefc-39b6124168a6",
   "metadata": {
    "tags": []
   },
   "outputs": [
    {
     "data": {
      "text/plain": [
       "company_location\n",
       "US    3040\n",
       "GB     172\n",
       "CA      87\n",
       "ES      77\n",
       "IN      58\n",
       "      ... \n",
       "MK       1\n",
       "BS       1\n",
       "IR       1\n",
       "CR       1\n",
       "MT       1\n",
       "Name: count, Length: 72, dtype: int64"
      ]
     },
     "execution_count": 48,
     "metadata": {},
     "output_type": "execute_result"
    }
   ],
   "source": [
    "salaries_dataframe.company_location.value_counts()"
   ]
  },
  {
   "cell_type": "markdown",
   "id": "d8e7430c-6a27-436e-8183-c09f285c9b18",
   "metadata": {},
   "source": [
    "### work_year value count"
   ]
  },
  {
   "cell_type": "code",
   "execution_count": 36,
   "id": "59f7e861-bda6-45a1-8574-d63e8cb4dc71",
   "metadata": {
    "tags": []
   },
   "outputs": [
    {
     "data": {
      "text/plain": [
       "work_year\n",
       "2023    1785\n",
       "2022    1664\n",
       "2021     230\n",
       "2020      76\n",
       "Name: count, dtype: int64"
      ]
     },
     "execution_count": 36,
     "metadata": {},
     "output_type": "execute_result"
    }
   ],
   "source": [
    "salaries_dataframe.work_year.value_counts()"
   ]
  },
  {
   "cell_type": "markdown",
   "id": "553776c3-d492-4105-8b91-931ad3b72ee2",
   "metadata": {},
   "source": [
    "### experience_level value count "
   ]
  },
  {
   "cell_type": "code",
   "execution_count": 50,
   "id": "1cc5ce41-ea2c-489b-a2af-495eff134790",
   "metadata": {
    "tags": []
   },
   "outputs": [
    {
     "data": {
      "text/plain": [
       "experience_level\n",
       "SE    2516\n",
       "MI     805\n",
       "EN     320\n",
       "EX     114\n",
       "Name: count, dtype: int64"
      ]
     },
     "execution_count": 50,
     "metadata": {},
     "output_type": "execute_result"
    }
   ],
   "source": [
    "salaries_dataframe.experience_level.value_counts()"
   ]
  },
  {
   "cell_type": "markdown",
   "id": "37abb8dd-ae44-4032-956e-d7d3f74fadd8",
   "metadata": {},
   "source": [
    "### number of unique values and value count of employee_residence column "
   ]
  },
  {
   "cell_type": "markdown",
   "id": "fbb84fc5-3115-4b7a-bbdb-66ff8d686bea",
   "metadata": {
    "tags": []
   },
   "source": [
    "salaries_dataframe.employee_residence.value_counts().nunique()\n",
    "salaries_dataframe.employee_residence.value_counts()"
   ]
  },
  {
   "cell_type": "markdown",
   "id": "294307e1-03ce-40e7-ae16-6f0de93187c8",
   "metadata": {},
   "source": [
    "### Employment type value count "
   ]
  },
  {
   "cell_type": "code",
   "execution_count": 51,
   "id": "5ac0ed60-aa22-4b6b-8f7c-8c0c792dc74f",
   "metadata": {
    "tags": []
   },
   "outputs": [
    {
     "data": {
      "text/plain": [
       "employment_type\n",
       "FT    3718\n",
       "PT      17\n",
       "CT      10\n",
       "FL      10\n",
       "Name: count, dtype: int64"
      ]
     },
     "execution_count": 51,
     "metadata": {},
     "output_type": "execute_result"
    }
   ],
   "source": [
    "salaries_dataframe.employment_type.value_counts()"
   ]
  },
  {
   "cell_type": "markdown",
   "id": "820a864c-f825-4bfd-b19e-ef10800ccabe",
   "metadata": {},
   "source": [
    "### Remote ratio value count "
   ]
  },
  {
   "cell_type": "code",
   "execution_count": 49,
   "id": "3e1fbc1c-cfb2-4ba7-bb6b-8896fdc09bf8",
   "metadata": {
    "tags": []
   },
   "outputs": [
    {
     "data": {
      "text/plain": [
       "remote_ratio\n",
       "0      1923\n",
       "100    1643\n",
       "50      189\n",
       "Name: count, dtype: int64"
      ]
     },
     "execution_count": 49,
     "metadata": {},
     "output_type": "execute_result"
    }
   ],
   "source": [
    "salaries_dataframe.remote_ratio.value_counts()"
   ]
  },
  {
   "cell_type": "markdown",
   "id": "9a84da52-9b96-4405-b485-7779707b3a35",
   "metadata": {},
   "source": [
    "### Job title value count "
   ]
  },
  {
   "cell_type": "code",
   "execution_count": 53,
   "id": "4987a8e7-88f0-4a7a-a28d-38a730305d01",
   "metadata": {
    "tags": []
   },
   "outputs": [
    {
     "data": {
      "text/plain": [
       "job_title\n",
       "Data Engineer                          1040\n",
       "Data Scientist                          840\n",
       "Data Analyst                            612\n",
       "Machine Learning Engineer               289\n",
       "Analytics Engineer                      103\n",
       "                                       ... \n",
       "Principal Machine Learning Engineer       1\n",
       "Azure Data Engineer                       1\n",
       "Manager Data Management                   1\n",
       "Marketing Data Engineer                   1\n",
       "Finance Data Analyst                      1\n",
       "Name: count, Length: 93, dtype: int64"
      ]
     },
     "execution_count": 53,
     "metadata": {},
     "output_type": "execute_result"
    }
   ],
   "source": [
    "salaries_dataframe.job_title.value_counts()"
   ]
  },
  {
   "cell_type": "markdown",
   "id": "f7b77370-01e8-466a-84d3-797e1fcaa9e6",
   "metadata": {},
   "source": [
    "### number Unique values of company_location"
   ]
  },
  {
   "cell_type": "code",
   "execution_count": 47,
   "id": "88d49af6-3d5b-490c-b617-23d070cae745",
   "metadata": {
    "tags": []
   },
   "outputs": [
    {
     "data": {
      "text/plain": [
       "company_location\n",
       "US    3040\n",
       "GB     172\n",
       "CA      87\n",
       "ES      77\n",
       "IN      58\n",
       "      ... \n",
       "MK       1\n",
       "BS       1\n",
       "IR       1\n",
       "CR       1\n",
       "MT       1\n",
       "Name: count, Length: 72, dtype: int64"
      ]
     },
     "execution_count": 47,
     "metadata": {},
     "output_type": "execute_result"
    }
   ],
   "source": [
    "salaries_dataframe.company_location.nunique()\n",
    "salaries_dataframe.company_location.value_counts()"
   ]
  },
  {
   "cell_type": "markdown",
   "id": "988bf2f4-5f7c-410e-b7a1-0fd4abe2a658",
   "metadata": {},
   "source": [
    "### number Unique values of company_size"
   ]
  },
  {
   "cell_type": "code",
   "execution_count": 48,
   "id": "c40ad18c-ea02-4269-a05e-614e512ed279",
   "metadata": {
    "tags": []
   },
   "outputs": [
    {
     "data": {
      "text/plain": [
       "company_size\n",
       "M    3153\n",
       "L     454\n",
       "S     148\n",
       "Name: count, dtype: int64"
      ]
     },
     "execution_count": 48,
     "metadata": {},
     "output_type": "execute_result"
    }
   ],
   "source": [
    "salaries_dataframe.company_size.nunique()\n",
    "salaries_dataframe.company_size.value_counts()"
   ]
  },
  {
   "cell_type": "markdown",
   "id": "d2c4c430-b42f-4b1f-8366-4d5a8bb767ca",
   "metadata": {},
   "source": [
    "# Data preparation "
   ]
  },
  {
   "cell_type": "markdown",
   "id": "cf649429-64a8-4a7c-955f-71802e73b019",
   "metadata": {},
   "source": [
    "### Removing unnecessary columns from the data set "
   ]
  },
  {
   "cell_type": "code",
   "execution_count": 16,
   "id": "5ec49e7a-bb23-41a8-b5ae-8e35f51eec09",
   "metadata": {
    "tags": []
   },
   "outputs": [],
   "source": [
    "# removing the two column 'salary' and salary_currency from the data set \n",
    "# using drop method from the pandas with the parameter columns name, axis and inplace\n",
    "salaries_dataframe.drop(['salary', 'salary_currency'], axis=1, inplace=True)"
   ]
  },
  {
   "cell_type": "code",
   "execution_count": 17,
   "id": "6a4318f9-2e83-4efe-9aa3-a5a9e9c29a28",
   "metadata": {
    "tags": []
   },
   "outputs": [
    {
     "name": "stdout",
     "output_type": "stream",
     "text": [
      "Index(['work_year', 'experience_level', 'employment_type', 'job_title',\n",
      "       'salary_in_usd', 'employee_residence', 'remote_ratio',\n",
      "       'company_location', 'company_size'],\n",
      "      dtype='object')\n"
     ]
    }
   ],
   "source": [
    "# Columns of the dataframe after removing the two columns\n",
    "print(salaries_dataframe.columns)"
   ]
  },
  {
   "cell_type": "markdown",
   "id": "c12be266-a2c8-4404-9f92-85f8e85fad9b",
   "metadata": {
    "tags": []
   },
   "source": [
    "### Renaming the experience level columns value"
   ]
  },
  {
   "cell_type": "code",
   "execution_count": 18,
   "id": "1bfabcad-d95f-4e1d-ba9b-2ec33920de0c",
   "metadata": {
    "tags": []
   },
   "outputs": [
    {
     "name": "stdout",
     "output_type": "stream",
     "text": [
      "0          Senior Level/Expert\n",
      "1    Medium Level/Intermediate\n",
      "2    Medium Level/Intermediate\n",
      "3          Senior Level/Expert\n",
      "4          Senior Level/Expert\n",
      "Name: experience_level, dtype: object\n"
     ]
    }
   ],
   "source": [
    "# creating a dictionary where the current column values as key  to new columns as values of dictionary for experience_level column \n",
    "dict_rename = {\"SE\":\"Senior Level/Expert\",\"MI\":\"Medium Level/Intermediate\", \"EN\" : \"Entry Level\", \"EX\" : \"Executive Level\"}\n",
    "# renaming the value by using the above defined dict_rename \n",
    "salaries_dataframe['experience_level'] = salaries_dataframe.experience_level.replace(dict_rename)\n",
    "print(salaries_dataframe.experience_level.head(5))"
   ]
  },
  {
   "cell_type": "markdown",
   "id": "05e25148-c01a-4bab-ab6c-a8b54dd12766",
   "metadata": {},
   "source": [
    "### Removing missing values "
   ]
  },
  {
   "cell_type": "code",
   "execution_count": 19,
   "id": "a9d2d88b-377a-480c-b8f7-1fe896a9024f",
   "metadata": {
    "tags": []
   },
   "outputs": [],
   "source": [
    "# Removing the Missing values from the data set \n",
    "salaries_dataframe.dropna(axis = 0 , how = \"all\",inplace=True)"
   ]
  },
  {
   "cell_type": "markdown",
   "id": "7f1f5f3b-fca2-4fdf-a204-77d4fd817c55",
   "metadata": {
    "tags": []
   },
   "source": [
    "### inspection of duplicates values"
   ]
  },
  {
   "cell_type": "code",
   "execution_count": 20,
   "id": "3a9d9388-3ad6-40c3-b50d-31618cc13d70",
   "metadata": {
    "tags": []
   },
   "outputs": [
    {
     "data": {
      "text/html": [
       "<div>\n",
       "<style scoped>\n",
       "    .dataframe tbody tr th:only-of-type {\n",
       "        vertical-align: middle;\n",
       "    }\n",
       "\n",
       "    .dataframe tbody tr th {\n",
       "        vertical-align: top;\n",
       "    }\n",
       "\n",
       "    .dataframe thead th {\n",
       "        text-align: right;\n",
       "    }\n",
       "</style>\n",
       "<table border=\"1\" class=\"dataframe\">\n",
       "  <thead>\n",
       "    <tr style=\"text-align: right;\">\n",
       "      <th></th>\n",
       "      <th>work_year</th>\n",
       "      <th>experience_level</th>\n",
       "      <th>employment_type</th>\n",
       "      <th>job_title</th>\n",
       "      <th>salary_in_usd</th>\n",
       "      <th>employee_residence</th>\n",
       "      <th>remote_ratio</th>\n",
       "      <th>company_location</th>\n",
       "      <th>company_size</th>\n",
       "    </tr>\n",
       "  </thead>\n",
       "  <tbody>\n",
       "    <tr>\n",
       "      <th>5</th>\n",
       "      <td>2023</td>\n",
       "      <td>Senior Level/Expert</td>\n",
       "      <td>FT</td>\n",
       "      <td>Applied Scientist</td>\n",
       "      <td>222200</td>\n",
       "      <td>US</td>\n",
       "      <td>0</td>\n",
       "      <td>US</td>\n",
       "      <td>L</td>\n",
       "    </tr>\n",
       "    <tr>\n",
       "      <th>6</th>\n",
       "      <td>2023</td>\n",
       "      <td>Senior Level/Expert</td>\n",
       "      <td>FT</td>\n",
       "      <td>Applied Scientist</td>\n",
       "      <td>136000</td>\n",
       "      <td>US</td>\n",
       "      <td>0</td>\n",
       "      <td>US</td>\n",
       "      <td>L</td>\n",
       "    </tr>\n",
       "    <tr>\n",
       "      <th>9</th>\n",
       "      <td>2023</td>\n",
       "      <td>Senior Level/Expert</td>\n",
       "      <td>FT</td>\n",
       "      <td>Data Scientist</td>\n",
       "      <td>147100</td>\n",
       "      <td>US</td>\n",
       "      <td>0</td>\n",
       "      <td>US</td>\n",
       "      <td>M</td>\n",
       "    </tr>\n",
       "    <tr>\n",
       "      <th>10</th>\n",
       "      <td>2023</td>\n",
       "      <td>Senior Level/Expert</td>\n",
       "      <td>FT</td>\n",
       "      <td>Data Scientist</td>\n",
       "      <td>90700</td>\n",
       "      <td>US</td>\n",
       "      <td>0</td>\n",
       "      <td>US</td>\n",
       "      <td>M</td>\n",
       "    </tr>\n",
       "    <tr>\n",
       "      <th>11</th>\n",
       "      <td>2023</td>\n",
       "      <td>Senior Level/Expert</td>\n",
       "      <td>FT</td>\n",
       "      <td>Data Analyst</td>\n",
       "      <td>130000</td>\n",
       "      <td>US</td>\n",
       "      <td>100</td>\n",
       "      <td>US</td>\n",
       "      <td>M</td>\n",
       "    </tr>\n",
       "    <tr>\n",
       "      <th>...</th>\n",
       "      <td>...</td>\n",
       "      <td>...</td>\n",
       "      <td>...</td>\n",
       "      <td>...</td>\n",
       "      <td>...</td>\n",
       "      <td>...</td>\n",
       "      <td>...</td>\n",
       "      <td>...</td>\n",
       "      <td>...</td>\n",
       "    </tr>\n",
       "    <tr>\n",
       "      <th>3441</th>\n",
       "      <td>2022</td>\n",
       "      <td>Senior Level/Expert</td>\n",
       "      <td>FT</td>\n",
       "      <td>Data Engineer</td>\n",
       "      <td>115000</td>\n",
       "      <td>US</td>\n",
       "      <td>100</td>\n",
       "      <td>US</td>\n",
       "      <td>M</td>\n",
       "    </tr>\n",
       "    <tr>\n",
       "      <th>3502</th>\n",
       "      <td>2021</td>\n",
       "      <td>Medium Level/Intermediate</td>\n",
       "      <td>FT</td>\n",
       "      <td>Data Engineer</td>\n",
       "      <td>200000</td>\n",
       "      <td>US</td>\n",
       "      <td>100</td>\n",
       "      <td>US</td>\n",
       "      <td>L</td>\n",
       "    </tr>\n",
       "    <tr>\n",
       "      <th>3586</th>\n",
       "      <td>2021</td>\n",
       "      <td>Medium Level/Intermediate</td>\n",
       "      <td>FT</td>\n",
       "      <td>Data Engineer</td>\n",
       "      <td>200000</td>\n",
       "      <td>US</td>\n",
       "      <td>100</td>\n",
       "      <td>US</td>\n",
       "      <td>L</td>\n",
       "    </tr>\n",
       "    <tr>\n",
       "      <th>3665</th>\n",
       "      <td>2021</td>\n",
       "      <td>Medium Level/Intermediate</td>\n",
       "      <td>FT</td>\n",
       "      <td>Data Scientist</td>\n",
       "      <td>90734</td>\n",
       "      <td>DE</td>\n",
       "      <td>50</td>\n",
       "      <td>DE</td>\n",
       "      <td>L</td>\n",
       "    </tr>\n",
       "    <tr>\n",
       "      <th>3709</th>\n",
       "      <td>2021</td>\n",
       "      <td>Medium Level/Intermediate</td>\n",
       "      <td>FT</td>\n",
       "      <td>Data Scientist</td>\n",
       "      <td>90734</td>\n",
       "      <td>DE</td>\n",
       "      <td>50</td>\n",
       "      <td>DE</td>\n",
       "      <td>L</td>\n",
       "    </tr>\n",
       "  </tbody>\n",
       "</table>\n",
       "<p>1715 rows × 9 columns</p>\n",
       "</div>"
      ],
      "text/plain": [
       "      work_year           experience_level employment_type          job_title  \\\n",
       "5          2023        Senior Level/Expert              FT  Applied Scientist   \n",
       "6          2023        Senior Level/Expert              FT  Applied Scientist   \n",
       "9          2023        Senior Level/Expert              FT     Data Scientist   \n",
       "10         2023        Senior Level/Expert              FT     Data Scientist   \n",
       "11         2023        Senior Level/Expert              FT       Data Analyst   \n",
       "...         ...                        ...             ...                ...   \n",
       "3441       2022        Senior Level/Expert              FT      Data Engineer   \n",
       "3502       2021  Medium Level/Intermediate              FT      Data Engineer   \n",
       "3586       2021  Medium Level/Intermediate              FT      Data Engineer   \n",
       "3665       2021  Medium Level/Intermediate              FT     Data Scientist   \n",
       "3709       2021  Medium Level/Intermediate              FT     Data Scientist   \n",
       "\n",
       "      salary_in_usd employee_residence  remote_ratio company_location  \\\n",
       "5            222200                 US             0               US   \n",
       "6            136000                 US             0               US   \n",
       "9            147100                 US             0               US   \n",
       "10            90700                 US             0               US   \n",
       "11           130000                 US           100               US   \n",
       "...             ...                ...           ...              ...   \n",
       "3441         115000                 US           100               US   \n",
       "3502         200000                 US           100               US   \n",
       "3586         200000                 US           100               US   \n",
       "3665          90734                 DE            50               DE   \n",
       "3709          90734                 DE            50               DE   \n",
       "\n",
       "     company_size  \n",
       "5               L  \n",
       "6               L  \n",
       "9               M  \n",
       "10              M  \n",
       "11              M  \n",
       "...           ...  \n",
       "3441            M  \n",
       "3502            L  \n",
       "3586            L  \n",
       "3665            L  \n",
       "3709            L  \n",
       "\n",
       "[1715 rows x 9 columns]"
      ]
     },
     "execution_count": 20,
     "metadata": {},
     "output_type": "execute_result"
    }
   ],
   "source": [
    "\n",
    "duplicates_value = salaries_dataframe[salaries_dataframe.duplicated(keep=False)]\n",
    "duplicates_value\n"
   ]
  },
  {
   "cell_type": "markdown",
   "id": "989ec0d6-b1c9-4f00-9ae5-71c0ae3724f6",
   "metadata": {},
   "source": [
    "### Unique value from all the column \n"
   ]
  },
  {
   "cell_type": "code",
   "execution_count": 33,
   "id": "c85c1c3b-ea72-41da-ace2-821b76d3d376",
   "metadata": {
    "tags": []
   },
   "outputs": [
    {
     "name": "stdout",
     "output_type": "stream",
     "text": [
      "\n",
      "Unique value of: work_year column\n",
      "[2023 2022 2020 2021]\n",
      "\n",
      "Unique value of: experience_level column\n",
      "['Senior Level/Expert' 'Medium Level/Intermediate' 'Entry Level'\n",
      " 'Executive Level']\n",
      "\n",
      "Unique value of: employment_type column\n",
      "['FT' 'CT' 'FL' 'PT']\n",
      "\n",
      "Unique value of: job_title column\n",
      "['Principal Data Scientist' 'ML Engineer' 'Data Scientist'\n",
      " 'Applied Scientist' 'Data Analyst' 'Data Modeler' 'Research Engineer'\n",
      " 'Analytics Engineer' 'Business Intelligence Engineer'\n",
      " 'Machine Learning Engineer' 'Data Strategist' 'Data Engineer'\n",
      " 'Computer Vision Engineer' 'Data Quality Analyst'\n",
      " 'Compliance Data Analyst' 'Data Architect'\n",
      " 'Applied Machine Learning Engineer' 'AI Developer' 'Research Scientist'\n",
      " 'Data Analytics Manager' 'Business Data Analyst' 'Applied Data Scientist'\n",
      " 'Staff Data Analyst' 'ETL Engineer' 'Data DevOps Engineer' 'Head of Data'\n",
      " 'Data Science Manager' 'Data Manager' 'Machine Learning Researcher'\n",
      " 'Big Data Engineer' 'Data Specialist' 'Lead Data Analyst'\n",
      " 'BI Data Engineer' 'Director of Data Science'\n",
      " 'Machine Learning Scientist' 'MLOps Engineer' 'AI Scientist'\n",
      " 'Autonomous Vehicle Technician' 'Applied Machine Learning Scientist'\n",
      " 'Lead Data Scientist' 'Cloud Database Engineer' 'Financial Data Analyst'\n",
      " 'Data Infrastructure Engineer' 'Software Data Engineer' 'AI Programmer'\n",
      " 'Data Operations Engineer' 'BI Developer' 'Data Science Lead'\n",
      " 'Deep Learning Researcher' 'BI Analyst' 'Data Science Consultant'\n",
      " 'Data Analytics Specialist' 'Machine Learning Infrastructure Engineer'\n",
      " 'BI Data Analyst' 'Head of Data Science' 'Insight Analyst'\n",
      " 'Deep Learning Engineer' 'Machine Learning Software Engineer'\n",
      " 'Big Data Architect' 'Product Data Analyst'\n",
      " 'Computer Vision Software Engineer' 'Azure Data Engineer'\n",
      " 'Marketing Data Engineer' 'Data Analytics Lead' 'Data Lead'\n",
      " 'Data Science Engineer' 'Machine Learning Research Engineer'\n",
      " 'NLP Engineer' 'Manager Data Management' 'Machine Learning Developer'\n",
      " '3D Computer Vision Researcher' 'Principal Machine Learning Engineer'\n",
      " 'Data Analytics Engineer' 'Data Analytics Consultant'\n",
      " 'Data Management Specialist' 'Data Science Tech Lead'\n",
      " 'Data Scientist Lead' 'Cloud Data Engineer' 'Data Operations Analyst'\n",
      " 'Marketing Data Analyst' 'Power BI Developer' 'Product Data Scientist'\n",
      " 'Principal Data Architect' 'Machine Learning Manager'\n",
      " 'Lead Machine Learning Engineer' 'ETL Developer' 'Cloud Data Architect'\n",
      " 'Lead Data Engineer' 'Head of Machine Learning' 'Principal Data Analyst'\n",
      " 'Principal Data Engineer' 'Staff Data Scientist' 'Finance Data Analyst']\n",
      "\n",
      "Unique value of: salary_in_usd column\n",
      "[ 85847  30000  25500 ...  28369 412000  94665]\n",
      "\n",
      "Unique value of: employee_residence column\n",
      "['ES' 'US' 'CA' 'DE' 'GB' 'NG' 'IN' 'HK' 'PT' 'NL' 'CH' 'CF' 'FR' 'AU'\n",
      " 'FI' 'UA' 'IE' 'IL' 'GH' 'AT' 'CO' 'SG' 'SE' 'SI' 'MX' 'UZ' 'BR' 'TH'\n",
      " 'HR' 'PL' 'KW' 'VN' 'CY' 'AR' 'AM' 'BA' 'KE' 'GR' 'MK' 'LV' 'RO' 'PK'\n",
      " 'IT' 'MA' 'LT' 'BE' 'AS' 'IR' 'HU' 'SK' 'CN' 'CZ' 'CR' 'TR' 'CL' 'PR'\n",
      " 'DK' 'BO' 'PH' 'DO' 'EG' 'ID' 'AE' 'MY' 'JP' 'EE' 'HN' 'TN' 'RU' 'DZ'\n",
      " 'IQ' 'BG' 'JE' 'RS' 'NZ' 'MD' 'LU' 'MT']\n",
      "\n",
      "Unique value of: remote_ratio column\n",
      "[100   0  50]\n",
      "\n",
      "Unique value of: company_location column\n",
      "['ES' 'US' 'CA' 'DE' 'GB' 'NG' 'IN' 'HK' 'NL' 'CH' 'CF' 'FR' 'FI' 'UA'\n",
      " 'IE' 'IL' 'GH' 'CO' 'SG' 'AU' 'SE' 'SI' 'MX' 'BR' 'PT' 'RU' 'TH' 'HR'\n",
      " 'VN' 'EE' 'AM' 'BA' 'KE' 'GR' 'MK' 'LV' 'RO' 'PK' 'IT' 'MA' 'PL' 'AL'\n",
      " 'AR' 'LT' 'AS' 'CR' 'IR' 'BS' 'HU' 'AT' 'SK' 'CZ' 'TR' 'PR' 'DK' 'BO'\n",
      " 'PH' 'BE' 'ID' 'EG' 'AE' 'LU' 'MY' 'HN' 'JP' 'DZ' 'IQ' 'CN' 'NZ' 'CL'\n",
      " 'MD' 'MT']\n",
      "\n",
      "Unique value of: company_size column\n",
      "['L' 'S' 'M']\n"
     ]
    }
   ],
   "source": [
    "# storing the name of the column in the list \n",
    "column_list = list(salaries_dataframe.columns)\n",
    "# iterating through each column\n",
    "for column in column_list:\n",
    "    print(\"\")\n",
    "    print(\"Unique value of:\",column +\" \"+ \"column\")\n",
    "    print(salaries_dataframe[column].unique())"
   ]
  },
  {
   "cell_type": "markdown",
   "id": "f551d009-1c65-459e-9017-f7e0d5bfacfc",
   "metadata": {
    "tags": []
   },
   "source": [
    "# Data Analysis \n",
    "##"
   ]
  },
  {
   "cell_type": "markdown",
   "id": "abdf4981-e7ff-4208-b54a-2c86523c26f5",
   "metadata": {
    "tags": []
   },
   "source": [
    "### Summary statistic of 'salary_in_usd' column"
   ]
  },
  {
   "cell_type": "code",
   "execution_count": 61,
   "id": "f03ccd13-0a3b-44fc-806b-2ae12d03773d",
   "metadata": {
    "tags": []
   },
   "outputs": [
    {
     "name": "stdout",
     "output_type": "stream",
     "text": [
      "Summary statistic of salary_in_usd column \n",
      "Sum of salary column: 516576814\n",
      "Mean of salary column : 137570.38988015978\n",
      "Standard deviation of salary column: 63055.625278224084\n",
      "Skewness of salary column : 0.5364011659712974\n",
      "Kurtosis of salary column : 0.8340064594833612\n"
     ]
    }
   ],
   "source": [
    "salaries_sum = salaries_dataframe['salary_in_usd'].sum()\n",
    "salaries_mean = salaries_dataframe['salary_in_usd'].mean()\n",
    "salaries_std = salaries_dataframe['salary_in_usd'].std() \n",
    "salaries_skewness = salaries_dataframe['salary_in_usd'].skew()\n",
    "salaries_kurtosis = salaries_dataframe['salary_in_usd'].kurtosis()\n",
    "print(\"Summary statistic of salary_in_usd column \" )\n",
    "print(\"Sum of salary column:\", salaries_sum)\n",
    "print(\"Mean of salary column :\", salaries_mean)\n",
    "print(\"Standard deviation of salary column:\", salaries_std)\n",
    "print(\"Skewness of salary column :\", salaries_skewness)\n",
    "print(\"Kurtosis of salary column :\", salaries_kurtosis)"
   ]
  },
  {
   "cell_type": "markdown",
   "id": "605431a4-ad22-4c94-ac12-d6e8dabe4473",
   "metadata": {},
   "source": [
    "### Correlation between all numeric column"
   ]
  },
  {
   "cell_type": "code",
   "execution_count": 62,
   "id": "6d9987e2-a1f4-4332-9302-8ecf5ed20d06",
   "metadata": {},
   "outputs": [
    {
     "name": "stdout",
     "output_type": "stream",
     "text": [
      "               salary_in_usd  remote_ratio  work_year\n",
      "salary_in_usd       1.000000     -0.064171    0.22829\n",
      "remote_ratio       -0.064171      1.000000   -0.23643\n",
      "work_year           0.228290     -0.236430    1.00000\n"
     ]
    }
   ],
   "source": [
    "# calculating the correlation of all the column with numeric values \n",
    "correlation_all_column = salaries_dataframe[['salary_in_usd','remote_ratio','work_year']].corr()\n",
    "print(correlation_all_column)"
   ]
  },
  {
   "cell_type": "markdown",
   "id": "462f9255-eefa-4ba3-af02-6d6ee6f042b0",
   "metadata": {},
   "source": [
    "# Data Exploration \n"
   ]
  },
  {
   "cell_type": "markdown",
   "id": "ed11b388-3e1e-4db1-a83e-4aad84ef0795",
   "metadata": {
    "tags": []
   },
   "source": [
    "### Top 15 jobs "
   ]
  },
  {
   "cell_type": "code",
   "execution_count": 63,
   "id": "c4a0f7fa-bd39-4eef-a86f-84fdaaeaa3e1",
   "metadata": {
    "tags": []
   },
   "outputs": [
    {
     "name": "stdout",
     "output_type": "stream",
     "text": [
      "job_title\n",
      "Data Engineer                 1040\n",
      "Data Scientist                 840\n",
      "Data Analyst                   612\n",
      "Machine Learning Engineer      289\n",
      "Analytics Engineer             103\n",
      "Data Architect                 101\n",
      "Research Scientist              82\n",
      "Data Science Manager            58\n",
      "Applied Scientist               58\n",
      "Research Engineer               37\n",
      "ML Engineer                     34\n",
      "Data Manager                    29\n",
      "Machine Learning Scientist      26\n",
      "Data Science Consultant         24\n",
      "Data Analytics Manager          22\n",
      "Name: count, dtype: int64\n"
     ]
    },
    {
     "data": {
      "image/png": "[encoded data removed]",
      "text/plain": [
       "<Figure size 800x500 with 1 Axes>"
      ]
     },
     "metadata": {},
     "output_type": "display_data"
    }
   ],
   "source": [
    "#calculating the top 15 jobs from the data set \n",
    "top_15_jobs = salaries_dataframe.job_title.value_counts().nlargest(15)\n",
    "# Displaying out the top 15 job \n",
    "print(top_15_jobs) \n",
    "\n",
    "# Figure size of the plot \n",
    "plt.figure(figsize=(8, 5))\n",
    "# plotting bar plot \n",
    "plt.bar(top_15_jobs.index,top_15_jobs.values,color='green')\n",
    "# title of the plot \n",
    "plt.title('Top 15 jobs ')\n",
    "#x label name of the plot d\n",
    "plt.xlabel('Job Title')\n",
    "# y label name of the plot \n",
    "plt.ylabel('Number of jobs')\n",
    "# rotating the x axis tick to 90 degree for clear visibility  \n",
    "plt.xticks(rotation=90)\n",
    "# setting the range of the y label tick values \n",
    "plt.yticks(range(0, 1200, 100))\n",
    "# saving the figure \n",
    "plt.savefig('top15.png')\n",
    "plt.show()\n"
   ]
  },
  {
   "cell_type": "markdown",
   "id": "fb1052b7-4870-4f77-b629-39abb2866719",
   "metadata": {},
   "source": [
    "### Jobs with the High salary"
   ]
  },
  {
   "cell_type": "code",
   "execution_count": 64,
   "id": "8a03723b-c685-47df-a4d9-352938c5e665",
   "metadata": {
    "tags": []
   },
   "outputs": [
    {
     "name": "stdout",
     "output_type": "stream",
     "text": [
      "The job with highest salary :\n",
      "job_title\n",
      "Data Science Tech Lead    375000.0\n",
      "Name: salary_in_usd, dtype: float64\n"
     ]
    },
    {
     "data": {
      "image/png": "[encoded data removed]",
      "text/plain": [
       "<Figure size 800x500 with 1 Axes>"
      ]
     },
     "metadata": {},
     "output_type": "display_data"
    }
   ],
   "source": [
    "#finding out the job  with the highest salary \n",
    "highest_salary = salaries_dataframe.groupby('job_title')['salary_in_usd'].mean().nlargest(1)\n",
    "print(\"The job with highest salary :\") \n",
    "print(highest_salary)\n",
    "# Top 10 jobs with highest salary \n",
    "Top_10_highest_salary = salaries_dataframe.groupby('job_title')['salary_in_usd'].mean().nlargest(10)\n",
    "# figure size \n",
    "plt.figure(figsize=(8, 5))\n",
    "# bar plot \n",
    "plt.bar(Top_10_highest_salary.index,Top_10_highest_salary.values, color='purple')\n",
    "# title of the bar plot \n",
    "plt.title('top 10 jobs with highest salary')\n",
    "# name of x label \n",
    "plt.xlabel('Job Title')\n",
    "# name of y label \n",
    "plt.ylabel('Salary (USD)')\n",
    "# rotating the x axis tick to 90 degree \n",
    "plt.xticks(rotation=90,)\n",
    "# saving the figure \n",
    "plt.savefig(\"top_10_job_with_highest_salary.png\")\n",
    "plt.show()"
   ]
  },
  {
   "cell_type": "markdown",
   "id": "158e4205-1dbd-4f90-a9e2-c8b58354c369",
   "metadata": {
    "tags": []
   },
   "source": [
    "### Salaries of the employees based on the experience level \n"
   ]
  },
  {
   "cell_type": "code",
   "execution_count": 65,
   "id": "1b131c2c-0e77-4627-b1b3-107c0c6dd3ff",
   "metadata": {
    "tags": []
   },
   "outputs": [
    {
     "name": "stdout",
     "output_type": "stream",
     "text": [
      "Salary based on thhe experience_level: \n",
      "experience_level\n",
      "Entry Level                   78546.284375\n",
      "Executive Level              194930.929825\n",
      "Medium Level/Intermediate    104525.939130\n",
      "Senior Level/Expert          153051.071542\n",
      "Name: salary_in_usd, dtype: float64\n"
     ]
    },
    {
     "data": {
      "image/png": "[encoded data removed]",
      "text/plain": [
       "<Figure size 1000x600 with 1 Axes>"
      ]
     },
     "metadata": {},
     "output_type": "display_data"
    }
   ],
   "source": [
    "# calculating the salary based on the experience_level \n",
    "salary_based_on_experience_level = salaries_dataframe.groupby('experience_level')['salary_in_usd'].mean()\n",
    "print(\"Salary based on thhe experience_level: \" )\n",
    "print(salary_based_on_experience_level)\n",
    "\n",
    "# Size of the figure \n",
    "plt.figure(figsize=(10, 6))\n",
    "# plotting bar graph\n",
    "plt.bar(salary_based_on_experience_level.index,salary_based_on_experience_level.values, color =\"orange\")\n",
    "# title of the plot                                                  \n",
    "plt.title('Salary of the employees based on the experience level')\n",
    "# x label of the plot \n",
    "plt.xlabel('Experience Level ')\n",
    "\n",
    "# y label of the plot \n",
    "plt.ylabel('Salary (USD)')\n",
    "# x axis tick rotation \n",
    "plt.xticks(rotation=10)\n",
    "# saving the figure \n",
    "plt.savefig(\"experience.png\")\n",
    "plt.show()"
   ]
  },
  {
   "cell_type": "markdown",
   "id": "2b3d6c40-80ed-4aed-9de2-fa45f3523937",
   "metadata": {
    "tags": []
   },
   "source": [
    "\n",
    "### Frequency distribution of work_year column "
   ]
  },
  {
   "cell_type": "code",
   "execution_count": 66,
   "id": "a8d4ada4-b764-4f07-94f5-7366f4cf68d9",
   "metadata": {},
   "outputs": [
    {
     "data": {
      "image/png": "[encoded data removed]",
      "text/plain": [
       "<Figure size 600x400 with 1 Axes>"
      ]
     },
     "metadata": {},
     "output_type": "display_data"
    }
   ],
   "source": [
    "# calculating the desire number of bins for the histogram \n",
    "binss = salaries_dataframe['work_year'].max() - salaries_dataframe['work_year'].min()\n",
    "# fiugure size \n",
    "plt.figure(figsize=(6, 4))\n",
    "# plotting histogram for work_year columm \n",
    "plt.hist(salaries_dataframe['work_year'], bins =binss,color = \"green\" )\n",
    "# x axis  ticks values \n",
    "plt.xticks(salaries_dataframe['work_year'].unique())\n",
    "# y axis ticks value \n",
    "plt.yticks(range(0,4500,400))\n",
    "# title of the plot \n",
    "plt.title(\"frequency distribution of work_year column \" )\n",
    "# name of the xlabel \n",
    "plt.xlabel('work year')\n",
    "# name of the y label \n",
    "plt.ylabel(\"frequency\")\n",
    "# include grid in the histogram \n",
    "plt.grid()\n",
    "plt.savefig(\"hist.png\")\n",
    "plt.show()"
   ]
  },
  {
   "cell_type": "code",
   "execution_count": 76,
   "id": "ae6a53c0-ea4e-43d3-994e-27325dc1e739",
   "metadata": {
    "tags": []
   },
   "outputs": [
    {
     "data": {
      "image/png": "[encoded data removed]",
      "text/plain": [
       "<Figure size 1000x600 with 1 Axes>"
      ]
     },
     "metadata": {},
     "output_type": "display_data"
    }
   ],
   "source": [
    "# figure size \n",
    "plt.figure(figsize=(10, 6))\n",
    "\n",
    "# using seaborn library for plotting boxplot \n",
    "sns.boxplot(x =salaries_dataframe['experience_level'], y = salaries_dataframe['salary_in_usd'])\n",
    "# title of the plot \n",
    "plt.title(\"Box plot of  experience level by salary in usd\" )\n",
    "# name of the xlabel \n",
    "plt.xlabel('experience level')\n",
    "# name of the y label \n",
    "plt.ylabel(\"Salary (USD)\")\n",
    "plt. savefig(\"box.png\")\n",
    "plt.show()"
   ]
  }
 ],
 "metadata": {
  "kernelspec": {
   "display_name": "Python 3 (ipykernel)",
   "language": "python",
   "name": "python3"
  },
  "language_info": {
   "codemirror_mode": {
    "name": "ipython",
    "version": 3
   },
   "file_extension": ".py",
   "mimetype": "text/x-python",
   "name": "python",
   "nbconvert_exporter": "python",
   "pygments_lexer": "ipython3",
   "version": "3.11.5"
  }
 },
 "nbformat": 4,
 "nbformat_minor": 5
}
